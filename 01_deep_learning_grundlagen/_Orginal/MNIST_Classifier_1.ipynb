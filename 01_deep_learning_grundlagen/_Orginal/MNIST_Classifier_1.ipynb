{
  "nbformat": 4,
  "nbformat_minor": 0,
  "metadata": {
    "colab": {
      "provenance": [],
      "gpuType": "T4"
    },
    "kernelspec": {
      "name": "python3",
      "display_name": "Python 3"
    },
    "language_info": {
      "name": "python"
    },
    "accelerator": "GPU"
  },
  "cells": [
    {
      "cell_type": "markdown",
      "source": [
        "# MNIST Klassifikation\n",
        "In diesem Notebook erstellen wir ein einfaches Neuronales Netzwerk mithilfe von pytorch um den MNIST Datensatz zu Klassifizieren. Dabei gehen wir entsprechend der [good practice des Deep Learning nach Kaparthy](https://karpathy.github.io/2019/04/25/recipe/) vor.\n",
        "\n",
        "1. Data Exploration\n",
        "2. Model & Traininsloop erstellen\n",
        "3. Evaluieren\n",
        "4. Overfitten\n",
        "5. Regularisieren\n",
        "6. Optimieren"
      ],
      "metadata": {
        "id": "_Xl6CxGgx2Ci"
      }
    },
    {
      "cell_type": "markdown",
      "source": [
        "## 1. Data Exploration\n",
        "\n",
        "Als erstes werden wir die Daten erkunden, um wertvolle Erkenntnisse aus den vorliegenden Daten zu gewinnen. Dabei werden wir verschiedene Analysetechniken und Visualisierungsmethoden einsetzen, um ein umfassendes Verständnis des Datensatzes zu entwickeln. Ziel ist es, Muster, Trends und Zusammenhänge innerhalb der Daten zu identifizieren und darauf aufbauend fundierte Entscheidungen treffen zu können, zB welche Informationen den Daten entnommen werden können und welches Modell sich dazu eignet."
      ],
      "metadata": {
        "id": "PXtCqPUeHUGd"
      }
    },
    {
      "cell_type": "markdown",
      "source": [
        "Zunächst laden wir die standardmässig verwendeten Module und den Datensatz."
      ],
      "metadata": {
        "id": "6QxIUqCsHc-Q"
      }
    },
    {
      "cell_type": "code",
      "source": [
        "import numpy as np\n",
        "import matplotlib.pyplot as plt\n",
        "\n",
        "from sklearn.datasets import fetch_openml\n",
        "\n",
        "# Lade den MNIST-Datensatz\n",
        "mnist = fetch_openml('mnist_784', version=1, as_frame=False)"
      ],
      "metadata": {
        "id": "KIYtpMqaHQ_8"
      },
      "execution_count": null,
      "outputs": []
    },
    {
      "cell_type": "markdown",
      "source": [
        "Die Inputdaten befinden sich nun in\n",
        "\n",
        "\n",
        "```\n",
        "mnist.data\n",
        "```\n",
        " Die Klassenlabel in\n",
        "\n",
        " ```\n",
        " mnist.target\n",
        " ```\n"
      ],
      "metadata": {
        "id": "GevFgv-_JfTG"
      }
    },
    {
      "cell_type": "markdown",
      "source": [
        "### Aufgabe 1.1\n",
        "### Welches Format haben die Daten?\n",
        "Wir betrachten das Format der Daten. Bestimmen Sie dazu\n",
        "1. die Grösse des Datensatzes: N_data\n",
        "2. die Dimension der einzelnen Input-Daten: size_input\n",
        "3. den Container des Input Daten: container_input\n",
        "4. den Input datentyp: dtype_input\n",
        "5. den Datentyp der Label: dtype_output\n",
        "6. den Wertebereich der Input-Daten: mini, maxi\n",
        "7. die möglichen Outputwerte: labels_list"
      ],
      "metadata": {
        "id": "V6_CQUbLI31-"
      }
    },
    {
      "cell_type": "code",
      "source": [
        "import numpy as np\n",
        "\n",
        "##############################################\n",
        "############ ENTER YOUR CODE HERE ############\n",
        "##############################################\n",
        "\n",
        "# Grösse des Datensatzes\n",
        "N_data, size_input = ...\n",
        "# Input container\n",
        "container_input = ...\n",
        "# Datentypen\n",
        "dtype_input = ...\n",
        "dtype_output = ...\n",
        "# Wertebereich\n",
        "mini, maxi = ..., ...\n",
        "labels_list = ...\n",
        "\n",
        "##############################################\n",
        "##############################################\n",
        "##############################################\n",
        "\n",
        "\n",
        "\n",
        "print(\"Format des Datensatzes:\")\n",
        "print(\"Anzahl Datenpunkte:\", N_data)\n",
        "print(\"Dimension der Input Daten:\", size_input)\n",
        "print(\"Input Container:\", container_input)\n",
        "print(\"Input Datentyp:\", dtype_input)\n",
        "print(\"Output Datentyp:\", dtype_output)\n",
        "print(\"Input Wertebereich:\", f\"[{mini},{maxi}]\")\n",
        "print(\"Output Werte:\", f\"{labels_list}\")"
      ],
      "metadata": {
        "id": "x7NsBd3nI4NF"
      },
      "execution_count": null,
      "outputs": []
    },
    {
      "cell_type": "markdown",
      "source": [
        "### Welche Daten enthält der Datensatz?\n",
        "\n",
        "Nun betrachten wir ein paar Datenbeispiele. Bei den Daten handelt es sich um Bilder mit einem string label. Wir plotten ein paar dieser Bilder zusammen mit deren Label."
      ],
      "metadata": {
        "id": "mHXsJsfnB8d8"
      }
    },
    {
      "cell_type": "code",
      "execution_count": null,
      "metadata": {
        "id": "jPDKlwptG1lK"
      },
      "outputs": [],
      "source": [
        "import matplotlib.pyplot as plt\n",
        "\n",
        "# Plot 25 example images with labels as titles\n",
        "fig, axs = plt.subplots(5, 5, figsize=(10, 10))\n",
        "for i, ax in enumerate(axs.flatten()):\n",
        "    ax.imshow(mnist.data[i].reshape(28, 28), cmap='gray')\n",
        "    ax.set_title(f\"label = {mnist.target[i]}\")\n",
        "    ax.axis('off')\n",
        "plt.tight_layout()\n",
        "plt.show()\n",
        "\n"
      ]
    },
    {
      "cell_type": "markdown",
      "source": [
        "Welche Daten sind im Datensatz enthalten?"
      ],
      "metadata": {
        "id": "txrLk-qUIODF"
      }
    },
    {
      "cell_type": "markdown",
      "source": [
        "### Aufgabe 1.2\n",
        "### Welche Klassen gibt es und wie sind diese Verteilt?\n",
        "Nun betrachten wir die Verteilung der Klassen. Berechnen und plotten Sie dazu das Histogram der Label."
      ],
      "metadata": {
        "id": "yYjVODKaIdBe"
      }
    },
    {
      "cell_type": "code",
      "source": [
        "import numpy as np\n",
        "import matplotlib.pyplot as plt\n",
        "\n",
        "\n",
        "##############################################\n",
        "############ ENTER YOUR CODE HERE ############\n",
        "##############################################\n",
        "\n",
        "# NumPy Histogramm-Berechnung\n",
        "counts = ...\n",
        "\n",
        "##############################################\n",
        "##############################################\n",
        "##############################################\n",
        "\n",
        "\n",
        "# Histogramm-Plot\n",
        "plt.bar(labels_list, counts, edgecolor='black')\n",
        "plt.xlabel('Label')\n",
        "plt.ylabel('Anzahl')\n",
        "plt.title('Histogramm der Datenverteilung')\n",
        "plt.show()\n",
        "\n"
      ],
      "metadata": {
        "id": "Nop7DLAUG3X4"
      },
      "execution_count": null,
      "outputs": []
    },
    {
      "cell_type": "markdown",
      "source": [
        "### Aufgabe 1.3\n",
        "### Wie machen wir die Klassen dem Model verständlich?\n",
        "Die Label Information liegt als String vor. Ein Neuronales Netz arbeitet jedoch in aller Regel nur mit Floats.\n",
        "Ein einfaches übersetzen der Strings in die Floatwerte 0 - 9 hätte zur Folge, dass zB ein Output von 4 näher am Zielwert 5 läge als ein Output von 1. Die 4 ist der 5 aber nicht ähnlicher als die 1.\n",
        "Es ist daher sinnvoll, jedes mögliche Label durch einen eigenen Floatwert 0 - 1 darzustellen, zB 3 -> [0,0,0,1,0,0,0,0,0,0].\n",
        "Dieser Vorgang heisst **One-Hot-Encoding** und sorgt für die saubere Trennung der Label. Ausserdem erlaubt dieses Vorgehen mit Labeln zu arbeiten, die keine Zahlenwerte sind, wie zB \"Hund\", \"Katze\", \"Maus\".\n",
        "\n",
        "Überführen Sie nun die Targetlabel in das One-Hot-Encoding Format.\n"
      ],
      "metadata": {
        "id": "V7ERDreJM5g7"
      }
    },
    {
      "cell_type": "code",
      "source": [
        "from sklearn.preprocessing import OneHotEncoder\n",
        "\n",
        "##############################################\n",
        "############ ENTER YOUR CODE HERE ############\n",
        "##############################################\n",
        "\n",
        "# One-Hot-Encoding der Labels\n",
        "encoder = ...\n",
        "labels = ...\n",
        "\n",
        "##############################################\n",
        "##############################################\n",
        "##############################################\n",
        "\n",
        "\n",
        "print(\"Shape der One-Hot-Encdoded Labels:\", labels.shape)"
      ],
      "metadata": {
        "id": "F8v5YopXBStS"
      },
      "execution_count": null,
      "outputs": []
    },
    {
      "cell_type": "markdown",
      "source": [
        "Die shape der labels sollte nun (70000, 10) sein."
      ],
      "metadata": {
        "id": "n6iR1CRjPrLf"
      }
    },
    {
      "cell_type": "markdown",
      "source": [
        "### Aufgabe 1.4\n",
        "### Welche Skalierung der Daten ist sinnvoll?\n",
        "Die Input Werte sind zwar schon im float Format, allerdings skalieren Sie von 0-255. Die Erfahrung zeigt, dass Neuronale Netze am besten mit Werten zwischen -1 und 1 bzw zwischen 0 und 1 arbeiten.\n",
        "\n",
        "Reskalieren Sie die Input Daten mithilfe des Min-Max Scaling:\n",
        "$$scaled\\_data = \\frac{{data - \\min(data)}}{{\\max(data) - \\min(data)}} \\cdot 2 - 1\n",
        "$$"
      ],
      "metadata": {
        "id": "-UvO3iiaP04n"
      }
    },
    {
      "cell_type": "code",
      "source": [
        "import numpy as np\n",
        "\n",
        "# Skalierung der Bilddaten auf [-1, 1]\n",
        "mini, maxi = np.min(mnist.data), np.max(mnist.data)\n",
        "print(\"Min/Max vor Skalierung:\", mini, maxi)\n",
        "\n",
        "##############################################\n",
        "############ ENTER YOUR CODE HERE ############\n",
        "##############################################\n",
        "\n",
        "scaled_data = ...\n",
        "\n",
        "##############################################\n",
        "##############################################\n",
        "##############################################\n",
        "\n",
        "print(\"Min/Max nach Skalierung:\", np.min(scaled_data), np.max(scaled_data))\n"
      ],
      "metadata": {
        "id": "z1hIR-IvBSqW"
      },
      "execution_count": null,
      "outputs": []
    }
  ]
}