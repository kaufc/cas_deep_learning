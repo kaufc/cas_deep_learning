{
  "nbformat": 4,
  "nbformat_minor": 0,
  "metadata": {
    "colab": {
      "provenance": [],
      "gpuType": "T4"
    },
    "kernelspec": {
      "name": "python3",
      "display_name": "Python 3"
    },
    "language_info": {
      "name": "python"
    },
    "accelerator": "GPU"
  },
  "cells": [
    {
      "cell_type": "markdown",
      "source": [
        "# Anomaly Detection\n",
        "\n",
        "In diesem Notebook erproben wir die Erkennung von ungewöhnlichen Bildern.\n",
        "Dazu nehmen wir den MNIST Datensatz und tauschen 1% der Bilder mit MNIST Fashion Bildern aus. Diese haben das selbe Format, aber zeigen verschiedene Modeartikel.\n",
        "\n",
        "## Aufgabe\n",
        "Vergleichen Sie die Ergebnisse der verschiedenen Anomaly-Detection-Methoden:\n",
        "- Isolation Forest\n",
        "- Mahalanobis-Distanz\n",
        "- VAE-Reconstruction Error\n",
        "\n",
        "Versuchen Sie, die Performance **eines** der folgenden Modelle zu verbessern:\n",
        "- Classifier\n",
        "- Generator (Variational Autoencoder)\n",
        "- Anomaly Detection\n",
        "\n",
        "\n",
        "Der Code in diesem Notebook wurde mithilfe von ChatGPT in etwa einer Stunde erstellt: [Chatverlauf](https://chatgpt.com/share/3427b25b-43f6-4e7a-8913-1986b7fad027)"
      ],
      "metadata": {
        "id": "C9omfDbzbWIa"
      }
    },
    {
      "cell_type": "code",
      "execution_count": null,
      "metadata": {
        "colab": {
          "base_uri": "https://localhost:8080/"
        },
        "id": "JMX_jtLBbUD3",
        "outputId": "6860ba54-9f23-44cb-b185-e211bc151c41"
      },
      "outputs": [
        {
          "output_type": "stream",
          "name": "stdout",
          "text": [
            "Downloading http://yann.lecun.com/exdb/mnist/train-images-idx3-ubyte.gz\n",
            "Failed to download (trying next):\n",
            "HTTP Error 403: Forbidden\n",
            "\n",
            "Downloading https://ossci-datasets.s3.amazonaws.com/mnist/train-images-idx3-ubyte.gz\n",
            "Downloading https://ossci-datasets.s3.amazonaws.com/mnist/train-images-idx3-ubyte.gz to ./data/MNIST/raw/train-images-idx3-ubyte.gz\n"
          ]
        },
        {
          "output_type": "stream",
          "name": "stderr",
          "text": [
            "100%|██████████| 9912422/9912422 [00:10<00:00, 915195.95it/s] \n"
          ]
        },
        {
          "output_type": "stream",
          "name": "stdout",
          "text": [
            "Extracting ./data/MNIST/raw/train-images-idx3-ubyte.gz to ./data/MNIST/raw\n",
            "\n",
            "Downloading http://yann.lecun.com/exdb/mnist/train-labels-idx1-ubyte.gz\n",
            "Failed to download (trying next):\n",
            "HTTP Error 403: Forbidden\n",
            "\n",
            "Downloading https://ossci-datasets.s3.amazonaws.com/mnist/train-labels-idx1-ubyte.gz\n",
            "Downloading https://ossci-datasets.s3.amazonaws.com/mnist/train-labels-idx1-ubyte.gz to ./data/MNIST/raw/train-labels-idx1-ubyte.gz\n"
          ]
        },
        {
          "output_type": "stream",
          "name": "stderr",
          "text": [
            "100%|██████████| 28881/28881 [00:00<00:00, 56678.80it/s]\n"
          ]
        },
        {
          "output_type": "stream",
          "name": "stdout",
          "text": [
            "Extracting ./data/MNIST/raw/train-labels-idx1-ubyte.gz to ./data/MNIST/raw\n",
            "\n",
            "Downloading http://yann.lecun.com/exdb/mnist/t10k-images-idx3-ubyte.gz\n",
            "Failed to download (trying next):\n",
            "HTTP Error 403: Forbidden\n",
            "\n",
            "Downloading https://ossci-datasets.s3.amazonaws.com/mnist/t10k-images-idx3-ubyte.gz\n",
            "Downloading https://ossci-datasets.s3.amazonaws.com/mnist/t10k-images-idx3-ubyte.gz to ./data/MNIST/raw/t10k-images-idx3-ubyte.gz\n"
          ]
        },
        {
          "output_type": "stream",
          "name": "stderr",
          "text": [
            "100%|██████████| 1648877/1648877 [00:06<00:00, 242617.04it/s]\n"
          ]
        },
        {
          "output_type": "stream",
          "name": "stdout",
          "text": [
            "Extracting ./data/MNIST/raw/t10k-images-idx3-ubyte.gz to ./data/MNIST/raw\n",
            "\n",
            "Downloading http://yann.lecun.com/exdb/mnist/t10k-labels-idx1-ubyte.gz\n",
            "Failed to download (trying next):\n",
            "HTTP Error 403: Forbidden\n",
            "\n",
            "Downloading https://ossci-datasets.s3.amazonaws.com/mnist/t10k-labels-idx1-ubyte.gz\n",
            "Downloading https://ossci-datasets.s3.amazonaws.com/mnist/t10k-labels-idx1-ubyte.gz to ./data/MNIST/raw/t10k-labels-idx1-ubyte.gz\n"
          ]
        },
        {
          "output_type": "stream",
          "name": "stderr",
          "text": [
            "100%|██████████| 4542/4542 [00:00<00:00, 4344476.34it/s]\n"
          ]
        },
        {
          "output_type": "stream",
          "name": "stdout",
          "text": [
            "Extracting ./data/MNIST/raw/t10k-labels-idx1-ubyte.gz to ./data/MNIST/raw\n",
            "\n",
            "Downloading http://fashion-mnist.s3-website.eu-central-1.amazonaws.com/train-images-idx3-ubyte.gz\n",
            "Downloading http://fashion-mnist.s3-website.eu-central-1.amazonaws.com/train-images-idx3-ubyte.gz to ./data/FashionMNIST/raw/train-images-idx3-ubyte.gz\n"
          ]
        },
        {
          "output_type": "stream",
          "name": "stderr",
          "text": [
            "100%|██████████| 26421880/26421880 [00:12<00:00, 2192734.52it/s]\n"
          ]
        },
        {
          "output_type": "stream",
          "name": "stdout",
          "text": [
            "Extracting ./data/FashionMNIST/raw/train-images-idx3-ubyte.gz to ./data/FashionMNIST/raw\n",
            "\n",
            "Downloading http://fashion-mnist.s3-website.eu-central-1.amazonaws.com/train-labels-idx1-ubyte.gz\n",
            "Downloading http://fashion-mnist.s3-website.eu-central-1.amazonaws.com/train-labels-idx1-ubyte.gz to ./data/FashionMNIST/raw/train-labels-idx1-ubyte.gz\n"
          ]
        },
        {
          "output_type": "stream",
          "name": "stderr",
          "text": [
            "100%|██████████| 29515/29515 [00:00<00:00, 168249.86it/s]\n"
          ]
        },
        {
          "output_type": "stream",
          "name": "stdout",
          "text": [
            "Extracting ./data/FashionMNIST/raw/train-labels-idx1-ubyte.gz to ./data/FashionMNIST/raw\n",
            "\n",
            "Downloading http://fashion-mnist.s3-website.eu-central-1.amazonaws.com/t10k-images-idx3-ubyte.gz\n",
            "Downloading http://fashion-mnist.s3-website.eu-central-1.amazonaws.com/t10k-images-idx3-ubyte.gz to ./data/FashionMNIST/raw/t10k-images-idx3-ubyte.gz\n"
          ]
        },
        {
          "output_type": "stream",
          "name": "stderr",
          "text": [
            "100%|██████████| 4422102/4422102 [00:01<00:00, 3132798.60it/s]\n"
          ]
        },
        {
          "output_type": "stream",
          "name": "stdout",
          "text": [
            "Extracting ./data/FashionMNIST/raw/t10k-images-idx3-ubyte.gz to ./data/FashionMNIST/raw\n",
            "\n",
            "Downloading http://fashion-mnist.s3-website.eu-central-1.amazonaws.com/t10k-labels-idx1-ubyte.gz\n",
            "Downloading http://fashion-mnist.s3-website.eu-central-1.amazonaws.com/t10k-labels-idx1-ubyte.gz to ./data/FashionMNIST/raw/t10k-labels-idx1-ubyte.gz\n"
          ]
        },
        {
          "output_type": "stream",
          "name": "stderr",
          "text": [
            "100%|██████████| 5148/5148 [00:00<00:00, 18957223.00it/s]"
          ]
        },
        {
          "output_type": "stream",
          "name": "stdout",
          "text": [
            "Extracting ./data/FashionMNIST/raw/t10k-labels-idx1-ubyte.gz to ./data/FashionMNIST/raw\n",
            "\n"
          ]
        },
        {
          "output_type": "stream",
          "name": "stderr",
          "text": [
            "\n"
          ]
        }
      ],
      "source": [
        "import torch\n",
        "from torchvision import datasets, transforms\n",
        "import random\n",
        "\n",
        "# Transformationen definieren\n",
        "transform = transforms.Compose([transforms.ToTensor()])\n",
        "\n",
        "# MNIST und Fashion-MNIST Datasets laden\n",
        "mnist_dataset = datasets.MNIST(root='./data', train=True, download=True, transform=transform)\n",
        "fashion_mnist_dataset = datasets.FashionMNIST(root='./data', train=True, download=True, transform=transform)\n",
        "\n",
        "# Sicherstellen, dass die Längen der beiden Datasets passen\n",
        "assert len(mnist_dataset) >= 600 and len(fashion_mnist_dataset) >= 600, \"Datasets müssen mindestens 600 Bilder enthalten.\"\n",
        "\n",
        "# 600 zufällige Indizes auswählen\n",
        "anomaly_indices = random.sample(range(len(mnist_dataset)), 600)\n",
        "fashion_mnist_indices = random.sample(range(len(fashion_mnist_dataset)), 600)\n",
        "\n",
        "\n",
        "# MNIST Bilder durch Fashion-MNIST Bilder ersetzen\n",
        "for mnist_idx, fashion_idx in zip(anomaly_indices, fashion_mnist_indices):\n",
        "    mnist_dataset.data[mnist_idx] = fashion_mnist_dataset.data[fashion_idx]\n",
        "    mnist_dataset.targets[mnist_idx] = fashion_mnist_dataset.targets[fashion_idx]\n",
        "\n"
      ]
    },
    {
      "cell_type": "markdown",
      "source": [
        "Hier betrachten wir ein paar Beispielbilder des originalen Datensatz sowie einige der ersetzten Bilder."
      ],
      "metadata": {
        "id": "xIJG4GsusSRw"
      }
    },
    {
      "cell_type": "code",
      "source": [
        "# Ergebnis überprüfen: Beispielbilder anzeigen\n",
        "import matplotlib.pyplot as plt\n",
        "\n",
        "print(\"beliebige Bilder\")\n",
        "\n",
        "fig, axes = plt.subplots(1, 5, figsize=(10, 2))\n",
        "for i, ax in enumerate(axes):\n",
        "    ax.imshow(mnist_dataset.data[i], cmap='gray')\n",
        "    ax.set_title(f\"Label: {mnist_dataset.targets[i].item()}\")\n",
        "    ax.axis('off')\n",
        "\n",
        "plt.show()\n",
        "\n",
        "# Ergebnis überprüfen: Ersetzte Bilder anzeigen\n",
        "\n",
        "print(\"Ersetzte Bilder\")\n",
        "\n",
        "fig, axes = plt.subplots(1, 5, figsize=(10, 2))\n",
        "for i, ax in enumerate(axes):\n",
        "    ax.imshow(mnist_dataset.data[anomaly_indices[i]], cmap='gray')\n",
        "    ax.set_title(f\"Label: {mnist_dataset.targets[anomaly_indices[i]].item()}\")\n",
        "    ax.axis('off')\n",
        "\n",
        "plt.show()\n"
      ],
      "metadata": {
        "colab": {
          "base_uri": "https://localhost:8080/",
          "height": 402
        },
        "id": "iQfk7DHdbhPY",
        "outputId": "fe184306-662e-4d21-9086-5c687d5486d8"
      },
      "execution_count": null,
      "outputs": [
        {
          "output_type": "stream",
          "name": "stdout",
          "text": [
            "beliebige Bilder\n"
          ]
        },
        {
          "output_type": "display_data",
          "data": {
            "text/plain": [
              "<Figure size 1000x200 with 5 Axes>"
            ],
            "image/png": "[encoded data removed]"
          },
          "metadata": {}
        },
        {
          "output_type": "stream",
          "name": "stdout",
          "text": [
            "Ersetzte Bilder\n"
          ]
        },
        {
          "output_type": "display_data",
          "data": {
            "text/plain": [
              "<Figure size 1000x200 with 5 Axes>"
            ],
            "image/png": "[encoded data removed]"
          },
          "metadata": {}
        }
      ]
    },
    {
      "cell_type": "markdown",
      "source": [
        "## Ansatz: Classifier\n",
        "\n",
        "Bei diesem Datensatz haben wir label, wir können also einen Classifier trainieren. In dessen vorletzter Schicht lernt er high-level features, die zur Klassifizierung der Bilder genutzt werden.\n",
        "Um diese Features nach dem Training zu erreichen, sondern wir die Berechnung der features in eine andere Funktion ab, die wir spaeter gesondert aufrufen können.\n",
        "Da die Anzahl der Features für den Entscheidungsprozess wichtig ist, lassen wir diesen Parameter frei wählbar."
      ],
      "metadata": {
        "id": "MWCtJKW3sY_y"
      }
    },
    {
      "cell_type": "code",
      "source": [
        "import torch\n",
        "import torch.nn as nn\n",
        "import torch.optim as optim\n",
        "from torch.utils.data import DataLoader, random_split\n",
        "\n",
        "class Classifier(nn.Module):\n",
        "    def __init__(self, N_hidden=64):\n",
        "        super(Classifier, self).__init__()\n",
        "        self.layer1 = nn.Linear(28 * 28, N_hidden)  # Eingabeschicht zu ersten versteckten Layer\n",
        "        self.relu1 = nn.ReLU()                # ReLU nach dem ersten versteckten Layer\n",
        "        self.layer2 = nn.Linear(N_hidden, N_hidden)       # Erster versteckter Layer zu zweitem versteckten Layer\n",
        "        self.relu2 = nn.ReLU()                # ReLU nach dem zweiten versteckten Layer\n",
        "        self.layer3 = nn.Linear(N_hidden, N_hidden)       # Zweiter versteckter Layer zu drittem versteckten Layer\n",
        "        self.relu3 = nn.ReLU()                # ReLU nach dem dritten versteckten Layer\n",
        "        self.output_layer = nn.Linear(N_hidden, 10) # Letzter versteckter Layer zu Output Layer\n",
        "\n",
        "    def forward(self, x):\n",
        "        x = self.relu3(self.features(x))      # High-Level Features berechnen\n",
        "        x = self.output_layer(x)              # Output Layer\n",
        "        return x\n",
        "\n",
        "    def features(self, x):\n",
        "        x = x.view(-1, 28 * 28)               # Eingabedaten flach machen\n",
        "        x = self.relu1(self.layer1(x))        # Schicht 1 und ReLU 1\n",
        "        x = self.relu2(self.layer2(x))        # Schicht 2 und ReLU 2\n",
        "        x = self.layer3(x)                    # Schicht 3 und ReLU 3\n",
        "        return x\n",
        "\n"
      ],
      "metadata": {
        "id": "hrLDaz6FcGKI"
      },
      "execution_count": null,
      "outputs": []
    },
    {
      "cell_type": "markdown",
      "source": [
        "Wir trainieren den Classsifier für 10 Epochen, so dass er eine akzeptable Accuracy bekommt."
      ],
      "metadata": {
        "id": "aeP59bqXtNBb"
      }
    },
    {
      "cell_type": "code",
      "source": [
        "# Modell, Loss-Funktion und Optimizer initialisieren\n",
        "N_hidden = 32\n",
        "\n",
        "model = Classifier(N_hidden=N_hidden)\n",
        "criterion = nn.CrossEntropyLoss()\n",
        "optimizer = optim.Adam(model.parameters(), lr=0.001)\n",
        "\n",
        "# Daten in Trainings- und Validierungs-Sets aufteilen\n",
        "train_size = int(0.8 * len(mnist_dataset))\n",
        "val_size = len(mnist_dataset) - train_size\n",
        "train_dataset, val_dataset = random_split(mnist_dataset, [train_size, val_size])\n",
        "\n",
        "# DataLoader für Training und Validierung erstellen\n",
        "train_loader = DataLoader(train_dataset, batch_size=256, shuffle=True)\n",
        "val_loader = DataLoader(val_dataset, batch_size=256, shuffle=False)\n",
        "\n",
        "# Training des Modells\n",
        "num_epochs = 10\n",
        "for epoch in range(num_epochs):\n",
        "    model.train()\n",
        "    running_loss = 0.0\n",
        "    for images, labels in train_loader:\n",
        "        optimizer.zero_grad()\n",
        "        outputs = model(images)\n",
        "        loss = criterion(outputs, labels)\n",
        "        loss.backward()\n",
        "        optimizer.step()\n",
        "        running_loss += loss.item()\n",
        "\n",
        "    # Validierung nach jedem Epoch\n",
        "    model.eval()\n",
        "    val_loss = 0.0\n",
        "    correct = 0\n",
        "    total = 0\n",
        "    with torch.no_grad():\n",
        "        for images, labels in val_loader:\n",
        "            outputs = model(images)\n",
        "            loss = criterion(outputs, labels)\n",
        "            val_loss += loss.item()\n",
        "            _, predicted = torch.max(outputs, 1)\n",
        "            total += labels.size(0)\n",
        "            correct += (predicted == labels).sum().item()\n",
        "\n",
        "    print(f'Epoch [{epoch+1}/{num_epochs}], '\n",
        "          f'Training Loss: {running_loss/len(train_loader):.4f}, '\n",
        "          f'Validation Loss: {val_loss/len(val_loader):.4f}, '\n",
        "          f'Accuracy: {100 * correct / total:.2f}%')\n"
      ],
      "metadata": {
        "colab": {
          "base_uri": "https://localhost:8080/"
        },
        "id": "ibYEjIekdYTs",
        "outputId": "5017a2bb-62c9-4b37-8129-3d058337cfb5"
      },
      "execution_count": null,
      "outputs": [
        {
          "output_type": "stream",
          "name": "stdout",
          "text": [
            "Epoch [1/10], Training Loss: 0.9755, Validation Loss: 0.4364, Accuracy: 87.61%\n",
            "Epoch [2/10], Training Loss: 0.3619, Validation Loss: 0.3358, Accuracy: 90.64%\n",
            "Epoch [3/10], Training Loss: 0.2962, Validation Loss: 0.2900, Accuracy: 91.79%\n",
            "Epoch [4/10], Training Loss: 0.2550, Validation Loss: 0.2671, Accuracy: 92.03%\n",
            "Epoch [5/10], Training Loss: 0.2243, Validation Loss: 0.2373, Accuracy: 93.05%\n",
            "Epoch [6/10], Training Loss: 0.1995, Validation Loss: 0.2142, Accuracy: 93.53%\n",
            "Epoch [7/10], Training Loss: 0.1783, Validation Loss: 0.1938, Accuracy: 94.38%\n",
            "Epoch [8/10], Training Loss: 0.1631, Validation Loss: 0.1938, Accuracy: 94.12%\n",
            "Epoch [9/10], Training Loss: 0.1494, Validation Loss: 0.1791, Accuracy: 94.86%\n",
            "Epoch [10/10], Training Loss: 0.1378, Validation Loss: 0.1725, Accuracy: 94.88%\n"
          ]
        }
      ]
    },
    {
      "cell_type": "markdown",
      "source": [
        "## Anomaly Detection\n",
        "\n",
        "Um anomale features zu erkennen, müssen wir die Features des gesamten Datensatzes betrachten.\n",
        "Da wir die Anomalien kennen, schalten wir in diesem Schritt das shuffling aus, um später die Qualität der Detection mit Precision und Recall bewerten zu können.\n",
        "\n",
        "Wer werden verschiedene Anomaly Detection methoden anwenden, um die Brauchbarkeit des Modells besser bewerten zu können.\n",
        "\n",
        "- Isolation Forest\n",
        "- Mahalanobis Distanz\n",
        "- Variational Autoencoder"
      ],
      "metadata": {
        "id": "71ntlXrWtYd6"
      }
    },
    {
      "cell_type": "code",
      "source": [
        "import numpy as np\n",
        "\n",
        "# Extrahiere Features aus den Daten\n",
        "def extract_features(dataloader, model):\n",
        "    model.eval()\n",
        "    features_list = []\n",
        "    labels_list = []\n",
        "    for images, labels in dataloader:\n",
        "        with torch.no_grad():\n",
        "            features = model.features(images).numpy()\n",
        "            features_list.append(features)\n",
        "            labels_list.append(labels.numpy())\n",
        "    return np.vstack(features_list), np.hstack(labels_list)\n",
        "\n",
        "\n",
        "# Neuer Dataloader ohne shuffle, damit die indices der Anomalien bekannt sind\n",
        "train_loader_no_shuffle = DataLoader(train_dataset, batch_size=1, shuffle=False)\n",
        "\n",
        "\n",
        "def calculate_precision_recall(predicted, actual):\n",
        "    \"\"\" Berechnet precision & recall fuer predicted und actual indizes \"\"\"\n",
        "    true_positives = len(set(predicted) & set(actual))\n",
        "    false_positives = len(set(predicted) - set(actual))\n",
        "    false_negatives = len(set(actual) - set(predicted))\n",
        "\n",
        "    precision = true_positives / (true_positives + false_positives) if (true_positives + false_positives) > 0 else 0\n",
        "    recall = true_positives / (true_positives + false_negatives) if (true_positives + false_negatives) > 0 else 0\n",
        "\n",
        "    return precision, recall\n",
        "\n",
        "\n",
        "# Extrahiere Features des gesamten Datasets\n",
        "features, labels = extract_features(train_loader, model)\n",
        "\n",
        "\n"
      ],
      "metadata": {
        "id": "eyB-CsVGeSgc"
      },
      "execution_count": null,
      "outputs": []
    },
    {
      "cell_type": "markdown",
      "source": [
        "### Anomaly Detection: Isolation Forest\n",
        "\n",
        "Ein Isolation Forest (Isolationswald) ist ein Machine-Learning-Algorithmus zur Anomalieerkennung. Er funktioniert, indem er Datenpunkte durch zufälliges Aufteilen von Merkmalen isoliert. Dabei werden Entscheidungsbäume erstellt, die die Daten in immer kleinere Teilmengen zerlegen. Anomalien (Ausreißer) sind jene Punkte, die im Durchschnitt weniger Teilungen benötigen, um isoliert zu werden, da sie sich von den restlichen Datenpunkten stark unterscheiden.\n",
        "\n",
        "\n",
        "Wichtige Eigenschaften des Isolation Forests:\n",
        "\n",
        "- Effizienz: Er arbeitet effizient auch mit großen Datensätzen, da er keine dichte Abschätzung benötigt.\n",
        "- Skalierbarkeit: Gut skalierbar für große und hochdimensionale Daten.\n",
        "- Unüberwacht: Er benötigt keine gelabelten Daten, sondern identifiziert Anomalien basierend auf den inhärenten Eigenschaften der Daten.\n",
        "\n",
        "Isolation Forest ist besonders nützlich in Anwendungen wie Betrugserkennung, Netzwerküberwachung oder bei der Identifikation ungewöhnlicher Muster in großen Datensätzen\n",
        "\n",
        "![](https://www.researchgate.net/publication/352017898/figure/fig1/AS:1029757483372550@1622524724599/Isolation-Forest-learned-iForest-construction-for-toy-dataset.png)\n"
      ],
      "metadata": {
        "id": "D7_fr5ARtz8C"
      }
    },
    {
      "cell_type": "code",
      "source": [
        "from sklearn.ensemble import IsolationForest\n",
        "\n",
        "\n",
        "# Isolation Forest zur Anomalieerkennung verwenden\n",
        "iso_forest = IsolationForest(contamination=0.01)  # 1% als Anomalien betrachten\n",
        "anomaly_scores = iso_forest.fit_predict(features)\n",
        "\n",
        "# Anomalien finden\n",
        "anomalies = np.where(anomaly_scores == -1)[0]\n",
        "\n",
        "# Berechnung von Precision und Recall\n",
        "precision, recall = calculate_precision_recall(anomalies, anomaly_indices)\n",
        "\n",
        "# Ergebnisse anzeigen\n",
        "print(f\"Anzahl der tatsächlichen Anomalien: {len(anomaly_indices)}\")\n",
        "print(f\"Anzahl der vorhergesagten Anomalien: {len(anomalies)}\")\n",
        "print(f\"Precision: {precision:.4f}\")\n",
        "print(f\"Recall: {recall:.4f}\")"
      ],
      "metadata": {
        "colab": {
          "base_uri": "https://localhost:8080/"
        },
        "id": "35gLHCxNjzaf",
        "outputId": "a595440c-85a2-404c-d659-05a8479b89cd"
      },
      "execution_count": null,
      "outputs": [
        {
          "output_type": "stream",
          "name": "stdout",
          "text": [
            "Anzahl der tatsächlichen Anomalien: 600\n",
            "Anzahl der vorhergesagten Anomalien: 480\n",
            "Precision: 0.0042\n",
            "Recall: 0.0033\n"
          ]
        }
      ]
    },
    {
      "cell_type": "code",
      "source": [
        "\n",
        "# zufällige Anomalien auswählen\n",
        "random_anomalies = random.sample(list(anomalies), min(10, len(anomalies)))\n",
        "\n",
        "# Anomalien plotten\n",
        "fig, axes = plt.subplots(1, len(random_anomalies), figsize=(15, 2))\n",
        "for i, idx in enumerate(random_anomalies):\n",
        "    axes[i].imshow(mnist_dataset.data[idx].numpy(), cmap='gray')\n",
        "    axes[i].set_title(f\"Label: {mnist_dataset.targets[idx].item()}\")\n",
        "    axes[i].axis('off')\n",
        "\n",
        "plt.show()\n",
        "\n"
      ],
      "metadata": {
        "colab": {
          "base_uri": "https://localhost:8080/",
          "height": 157
        },
        "id": "_bpqYpzifNpI",
        "outputId": "11821415-74c4-49bc-84a9-0b6b4e532d43"
      },
      "execution_count": null,
      "outputs": [
        {
          "output_type": "display_data",
          "data": {
            "text/plain": [
              "<Figure size 1500x200 with 10 Axes>"
            ],
            "image/png": "[encoded data removed]"
          },
          "metadata": {}
        }
      ]
    },
    {
      "cell_type": "markdown",
      "source": [
        "### Ansatz: Mahalanobis Distanz\n",
        "\n",
        "\n",
        "Die Mahalanobis-Distanz ist eine Metrik zur Messung des Abstands eines Punktes von einer Verteilung unter Berücksichtigung der Korrelationen zwischen den Variablen. Sie wird häufig zur Anomalieerkennung verwendet, da sie die Form und Verteilung der Daten besser berücksichtigt als die gewöhnliche euklidische Distanz.\n",
        "\n",
        "Anwendung der Mahalanobis-Distanz in der Anomalieerkennung:\n",
        "- Berechnung des Abstands: Die Mahalanobis-Distanz misst den Abstand eines Datenpunktes zum Zentrum der Datenverteilung (z. B. dem Mittelwert), wobei die Streuung und Korrelationen der Daten berücksichtigt werden. Dies geschieht durch Nutzung der Kovarianzmatrix, die die Variabilität und Beziehungen der Merkmale beschreibt.\n",
        "\n",
        "- Erkennung von Anomalien: Datenpunkte mit hohen Mahalanobis-Distanzen zum Zentrum gelten als Ausreißer, da sie im Vergleich zu den normalen Datenpunkten ungewöhnlich sind. Der Algorithmus kann so eingestellt werden, dass Punkte, deren Distanz einen bestimmten Schwellenwert überschreitet, als Anomalien klassifiziert werden.\n",
        "\n",
        "- Robustheit gegenüber multivariaten Daten: Im Gegensatz zu einfachen Distanzmetriken berücksichtigt die Mahalanobis-Distanz die Skala, Streuung und Korrelationen der Daten. Dies macht sie besonders geeignet für die Anomalieerkennung in hochdimensionalen und stark korrelierten Datensätzen.\n",
        "\n",
        "Die Mahalanobis-Distanz ist besonders nützlich, wenn man die Struktur der Daten exakt erfassen möchte, da sie Ausreißer nicht nur auf Basis der Distanz, sondern auch unter Berücksichtigung der Verteilungseigenschaften der Daten identifiziert."
      ],
      "metadata": {
        "id": "29nmYPaPuvyI"
      }
    },
    {
      "cell_type": "code",
      "source": [
        "from scipy.spatial.distance import mahalanobis\n",
        "import numpy as np\n",
        "\n",
        "# Mittelwert und Kovarianzmatrix der Features berechnen\n",
        "mean = np.mean(features, axis=0)\n",
        "cov_matrix = np.cov(features, rowvar=False)\n",
        "inv_cov_matrix = np.linalg.inv(cov_matrix)\n",
        "\n",
        "# Mahalanobis-Distanz für jedes Bild berechnen\n",
        "distances = [mahalanobis(f, mean, inv_cov_matrix) for f in features]\n",
        "\n",
        "# Schwellenwert setzen (z.B. 99. Perzentil)\n",
        "threshold = np.percentile(distances, 99)\n",
        "\n",
        "# Anomalien bestimmen\n",
        "anomalies1 = np.where(distances > threshold)[0]\n",
        "\n",
        "# Berechnung von Precision und Recall\n",
        "precision, recall = calculate_precision_recall(anomalies1, anomaly_indices)\n",
        "\n",
        "# Ergebnisse anzeigen\n",
        "print(f\"Anzahl der tatsächlichen Anomalien: {len(anomaly_indices)}\")\n",
        "print(f\"Anzahl der vorhergesagten Anomalien: {len(anomalies1)}\")\n",
        "print(f\"Precision: {precision:.4f}\")\n",
        "print(f\"Recall: {recall:.4f}\")\n",
        "\n"
      ],
      "metadata": {
        "colab": {
          "base_uri": "https://localhost:8080/"
        },
        "id": "S2QkaWrtf6dT",
        "outputId": "ef121add-fe02-4792-9538-c1c9fae68a32"
      },
      "execution_count": null,
      "outputs": [
        {
          "output_type": "stream",
          "name": "stdout",
          "text": [
            "Anzahl der tatsächlichen Anomalien: 600\n",
            "Anzahl der vorhergesagten Anomalien: 480\n",
            "Precision: 0.0104\n",
            "Recall: 0.0083\n"
          ]
        }
      ]
    },
    {
      "cell_type": "code",
      "source": [
        "\n",
        "# 5 zufällige Anomalien auswählen, falls es mehr als 5 gibt\n",
        "random_anomalies = random.sample(list(anomalies), min(10, len(anomalies)))\n",
        "\n",
        "# Anomalien plotten\n",
        "fig, axes = plt.subplots(1, len(random_anomalies), figsize=(15, 2))\n",
        "for i, idx in enumerate(random_anomalies):\n",
        "    axes[i].imshow(mnist_dataset.data[idx].numpy(), cmap='gray')\n",
        "    axes[i].set_title(f\"Label: {mnist_dataset.targets[idx].item()}\")\n",
        "    axes[i].axis('off')\n",
        "\n",
        "plt.show()\n",
        "\n",
        "print(f\"Anzahl der gefundenen Anomalien: {len(anomalies)}\")\n"
      ],
      "metadata": {
        "colab": {
          "base_uri": "https://localhost:8080/",
          "height": 174
        },
        "id": "Gh8lDcMAgGys",
        "outputId": "b9e41a87-f336-46dc-f865-4a8136d0f83e"
      },
      "execution_count": null,
      "outputs": [
        {
          "output_type": "display_data",
          "data": {
            "text/plain": [
              "<Figure size 1500x200 with 10 Axes>"
            ],
            "image/png": "[encoded data removed]"
          },
          "metadata": {}
        },
        {
          "output_type": "stream",
          "name": "stdout",
          "text": [
            "Anzahl der gefundenen Anomalien: 480\n"
          ]
        }
      ]
    },
    {
      "cell_type": "code",
      "source": [],
      "metadata": {
        "id": "pSeRefNWhlXg"
      },
      "execution_count": null,
      "outputs": []
    },
    {
      "cell_type": "markdown",
      "source": [
        "### Ansatz Variational Autoencoder\n",
        "\n",
        "Ein Variational Autoencoder (VAE) ist ein tiefes, probabilistisches Modell, das zur Anomalieerkennung verwendet werden kann. VAE kombiniert Prinzipien der tiefen Lernmethoden mit probabilistischer Modellierung, um eine latente Repräsentation der Eingabedaten zu lernen. Bei der Anomalieerkennung mit VAE wird das Modell darauf trainiert, die Daten so zu rekonstruieren, dass normale Muster gut wiederhergestellt werden können, während Anomalien schlechter rekonstruiert werden.\n",
        "\n",
        "Anwendung von VAE zur Anomalieerkennung:\n",
        "1. Training des VAE: Das VAE wird mit normalen Daten trainiert, um eine kompakte, latente Repräsentation der Daten zu lernen und sie möglichst gut zu rekonstruieren. Das Training zielt darauf ab, die Verteilung der Eingabedaten durch den latenten Raum zu approximieren.\n",
        "\n",
        "2. Rekonstruktion als Anomaliekriterium: Während der Erkennung wird ein neuer Datenpunkt durch den VAE verarbeitet und rekonstruiert. Die Differenz zwischen dem Original und der Rekonstruktion, gemessen als Rekonstruktionsfehler, dient als Indikator für Anomalien. Datenpunkte mit hohen Rekonstruktionsfehlern sind Anomalien, da das Modell sie nicht gut reproduzieren kann.\n",
        "\n",
        "3. Wahrscheinlichkeitsbasierter Ansatz: Zusätzlich zur Rekonstruktion schätzt VAE die Wahrscheinlichkeit eines Datenpunktes in der latenten Verteilung. Punkte mit niedriger Wahrscheinlichkeit werden ebenfalls als Anomalien identifiziert.\n",
        "\n",
        "4. Flexibilität und Anpassungsfähigkeit: VAE sind flexibel und können sich an komplexe Datenverteilungen anpassen, was sie ideal für die Erkennung von Anomalien in hochdimensionalen und nichtlinearen Datenstrukturen macht.\n",
        "\n",
        "VAEs sind besonders effektiv, weil sie sowohl die strukturellen Muster der Daten als auch die zugrunde liegende Verteilung lernen, was eine leistungsfähige Anomalieerkennung ermöglicht, die über einfache Distanzmetriken hinausgeht."
      ],
      "metadata": {
        "id": "pMK6Ryb8vYVP"
      }
    },
    {
      "cell_type": "code",
      "source": [
        "import torch\n",
        "import torch.nn as nn\n",
        "import torch.optim as optim\n",
        "from torch.utils.data import DataLoader, random_split\n",
        "import torch.nn.functional as F\n",
        "import numpy as np\n",
        "import matplotlib.pyplot as plt\n",
        "\n",
        "# Schritt 1: Einfacher Encoder und Decoder definieren\n",
        "class Encoder(nn.Module):\n",
        "    def __init__(self, input_dim=28*28, hidden_dim=64, latent_dim=16):\n",
        "        super(Encoder, self).__init__()\n",
        "        self.fc1 = nn.Linear(input_dim, hidden_dim)     # Erste Schicht\n",
        "        self.fc2 = nn.Linear(hidden_dim, hidden_dim)    # Zweite Schicht\n",
        "        self.fc3 = nn.Linear(hidden_dim, hidden_dim)    # Dritte Schicht\n",
        "        self.fc_mu = nn.Linear(hidden_dim, latent_dim)  # Schicht für Mittelwert\n",
        "        self.fc_logvar = nn.Linear(hidden_dim, latent_dim)  # Schicht für Log-Varianz\n",
        "\n",
        "    def forward(self, x):\n",
        "        x = F.relu(self.fc1(x))\n",
        "        x = F.relu(self.fc2(x))\n",
        "        x = F.relu(self.fc3(x))\n",
        "        mu = self.fc_mu(x)\n",
        "        logvar = self.fc_logvar(x)\n",
        "        return mu, logvar\n",
        "\n",
        "class Decoder(nn.Module):\n",
        "    def __init__(self, latent_dim=16, hidden_dim=64, output_dim=28*28):\n",
        "        super(Decoder, self).__init__()\n",
        "        self.fc1 = nn.Linear(latent_dim, hidden_dim)    # Erste Schicht\n",
        "        self.fc2 = nn.Linear(hidden_dim, hidden_dim)    # Zweite Schicht\n",
        "        self.fc3 = nn.Linear(hidden_dim, hidden_dim)    # Dritte Schicht\n",
        "        self.fc4 = nn.Linear(hidden_dim, output_dim)    # Output-Schicht\n",
        "\n",
        "    def forward(self, z):\n",
        "        z = F.relu(self.fc1(z))\n",
        "        z = F.relu(self.fc2(z))\n",
        "        z = F.relu(self.fc3(z))\n",
        "        recon = torch.sigmoid(self.fc4(z))  # Sigmoid für die Rekonstruktion\n",
        "        return recon\n",
        "\n",
        "\n",
        "class VAE(nn.Module):\n",
        "    def __init__(self, encoder, decoder):\n",
        "        super(VAE, self).__init__()\n",
        "        self.encoder = encoder\n",
        "        self.decoder = decoder\n",
        "\n",
        "    def reparameterize(self, mu, logvar):\n",
        "        std = torch.exp(0.5 * logvar)\n",
        "        eps = torch.randn_like(std)\n",
        "        return mu + eps * std\n",
        "\n",
        "    def forward(self, x):\n",
        "        mu, logvar = self.encoder(x)\n",
        "        z = self.reparameterize(mu, logvar)\n",
        "        recon = self.decoder(z)\n",
        "        return recon, mu, logvar\n",
        "\n",
        "\n",
        "\n",
        "# Schritt 2: Verlustfunktion definieren\n",
        "def vae_loss(recon_x, x, mu, logvar):\n",
        "    recon_loss = F.binary_cross_entropy(recon_x, x, reduction='sum')    ## Fehler in der Rekonstruktion des Bildes\n",
        "    kld_loss = -0.5 * torch.sum(1 + logvar - mu.pow(2) - logvar.exp())  ## Abweichung der Latent Features vom Normal\n",
        "    return recon_loss + kld_loss\n",
        "\n",
        "# Encoder, Decoder und VAE initialisieren\n",
        "encoder = Encoder()\n",
        "decoder = Decoder()\n",
        "vae = VAE(encoder, decoder)\n",
        "\n",
        "# Optimizer definieren\n",
        "optimizer = optim.Adam(vae.parameters(), lr=0.001)\n",
        "\n",
        "# Schritt 3: Trainingsloop definieren\n",
        "num_epochs = 20\n",
        "vae.train()\n",
        "for epoch in range(num_epochs):\n",
        "    total_loss = 0\n",
        "    for images, _ in train_loader:\n",
        "        images = images.view(-1, 28*28)  # Flatten der Bilder\n",
        "        optimizer.zero_grad()\n",
        "        recon, mu, logvar = vae(images)\n",
        "        loss = vae_loss(recon, images, mu, logvar)\n",
        "        loss.backward()\n",
        "        optimizer.step()\n",
        "        total_loss += loss.item()\n",
        "\n",
        "    print(f\"Epoch [{epoch+1}/{num_epochs}], Loss: {total_loss/len(train_loader.dataset):.4f}\")\n",
        "\n",
        "# Schritt 4: Anomalieerkennung mittels Rekonstruktionsfehler\n",
        "vae.eval()\n",
        "reconstruction_errors = []\n",
        "\n",
        "# Berechnung des Rekonstruktionsfehlers für jedes Bild\n",
        "with torch.no_grad():\n",
        "    for images, _ in train_loader_no_shuffle:\n",
        "        images = images.view(-1, 28*28)\n",
        "        recon, _, _ = vae(images)\n",
        "        recon_error = F.mse_loss(recon, images, reduction='none').mean(dim=1)\n",
        "        reconstruction_errors.extend(recon_error.numpy())\n",
        "\n",
        "# Schwellenwert für Anomalien festlegen (z.B. 99. Perzentil)\n",
        "threshold = np.percentile(reconstruction_errors, 99)\n",
        "anomalies = np.where(reconstruction_errors > threshold)[0]\n",
        "\n",
        "# Berechnung von Precision und Recall\n",
        "precision, recall = calculate_precision_recall(anomalies, anomaly_indices)\n",
        "\n",
        "# Ergebnisse anzeigen\n",
        "print(f\"Anzahl der tatsächlichen Anomalien: {len(anomaly_indices)}\")\n",
        "print(f\"Anzahl der vorhergesagten Anomalien: {len(anomalies)}\")\n",
        "print(f\"Precision: {precision:.4f}\")\n",
        "print(f\"Recall: {recall:.4f}\")\n",
        "\n"
      ],
      "metadata": {
        "colab": {
          "base_uri": "https://localhost:8080/"
        },
        "id": "8O4sZdlsraSu",
        "outputId": "f6a6c23e-7ad5-486d-dd8d-b13f904ab2ce"
      },
      "execution_count": null,
      "outputs": [
        {
          "output_type": "stream",
          "name": "stdout",
          "text": [
            "Epoch [1/20], Loss: 178.9518\n",
            "Epoch [2/20], Loss: 145.9855\n",
            "Epoch [3/20], Loss: 137.2604\n",
            "Epoch [4/20], Loss: 134.2242\n",
            "Epoch [5/20], Loss: 132.3772\n",
            "Epoch [6/20], Loss: 131.0509\n",
            "Epoch [7/20], Loss: 130.1205\n",
            "Epoch [8/20], Loss: 129.3588\n",
            "Epoch [9/20], Loss: 128.7521\n",
            "Epoch [10/20], Loss: 128.2254\n",
            "Epoch [11/20], Loss: 127.7292\n",
            "Epoch [12/20], Loss: 127.3743\n",
            "Epoch [13/20], Loss: 126.9704\n",
            "Epoch [14/20], Loss: 126.7016\n",
            "Epoch [15/20], Loss: 126.4057\n",
            "Epoch [16/20], Loss: 126.2293\n",
            "Epoch [17/20], Loss: 125.9657\n",
            "Epoch [18/20], Loss: 125.7216\n",
            "Epoch [19/20], Loss: 125.5475\n",
            "Epoch [20/20], Loss: 125.4399\n",
            "Anzahl der tatsächlichen Anomalien: 600\n",
            "Anzahl der vorhergesagten Anomalien: 480\n",
            "Precision: 0.0146\n",
            "Recall: 0.0117\n"
          ]
        }
      ]
    },
    {
      "cell_type": "markdown",
      "source": [
        "Hier betrachten wir die allgemeine Qualität der Rekonstruktion"
      ],
      "metadata": {
        "id": "OcQzs1mcxMW6"
      }
    },
    {
      "cell_type": "code",
      "source": [
        "import torch\n",
        "import matplotlib.pyplot as plt\n",
        "from torch.utils.data import DataLoader\n",
        "\n",
        "# Modell auf den Evaluationsmodus setzen\n",
        "vae.eval()\n",
        "\n",
        "# DataLoader erstellen (ohne Shuffle, um die Bilder in der Reihenfolge zu behalten)\n",
        "train_loader = DataLoader(train_dataset, batch_size=10, shuffle=False)\n",
        "\n",
        "# Einige Bilder aus dem Trainingsdatensatz rekonstruieren\n",
        "with torch.no_grad():\n",
        "    # Nimm eine Batch von Bildern aus dem DataLoader\n",
        "    for images, _ in train_loader:\n",
        "        images = images.view(-1, 28*28)  # Flatten der Bilder\n",
        "        reconstructions, _, _ = vae(images)  # Rekonstruktion durch den VAE\n",
        "        break  # Nur die erste Batch verwenden\n",
        "\n",
        "# Konvertiere die Bilder und Rekonstruktionen wieder in 2D-Form\n",
        "images = images.view(-1, 28, 28)\n",
        "reconstructions = reconstructions.view(-1, 28, 28)\n",
        "\n",
        "# Originale und Rekonstruktionen anzeigen\n",
        "fig, axes = plt.subplots(2, 10, figsize=(15, 3))\n",
        "for i in range(10):\n",
        "    # Originalbilder\n",
        "    axes[0, i].imshow(images[i].numpy(), cmap='gray')\n",
        "    axes[0, i].axis('off')\n",
        "    axes[0, i].set_title(\"Original\")\n",
        "\n",
        "    # Rekonstruierte Bilder\n",
        "    axes[1, i].imshow(reconstructions[i].numpy(), cmap='gray')\n",
        "    axes[1, i].axis('off')\n",
        "    axes[1, i].set_title(\"Rekonstruktion\")\n",
        "\n",
        "plt.tight_layout()\n",
        "plt.show()\n"
      ],
      "metadata": {
        "colab": {
          "base_uri": "https://localhost:8080/",
          "height": 310
        },
        "id": "2w5wAT44w-dg",
        "outputId": "62d0907f-43f2-4fb7-a74d-e62a92ff1025"
      },
      "execution_count": null,
      "outputs": [
        {
          "output_type": "display_data",
          "data": {
            "text/plain": [
              "<Figure size 1500x300 with 20 Axes>"
            ],
            "image/png": "[encoded data removed]"
          },
          "metadata": {}
        }
      ]
    },
    {
      "cell_type": "code",
      "source": [
        "\n",
        "# 5 zufällige Anomalien anzeigen\n",
        "random_anomalies = random.sample(list(anomalies), min(5, len(anomalies)))\n",
        "fig, axes = plt.subplots(2, len(random_anomalies), figsize=(15, 2))\n",
        "for i, idx in enumerate(random_anomalies):\n",
        "    axes[0,i].imshow(train_dataset[idx][0].view(28, 28).numpy(), cmap='gray')\n",
        "    with torch.no_grad():\n",
        "        axes[1,i].imshow(vae(train_dataset[idx][0].view(1,-1))[0].view(28, 28).numpy(), cmap='gray')\n",
        "    axes[0,i].set_title(f\"Rekonstruktion Fehler: {reconstruction_errors[idx]:.2f}\")\n",
        "    axes[0,i].axis('off')\n",
        "\n",
        "plt.show()\n"
      ],
      "metadata": {
        "colab": {
          "base_uri": "https://localhost:8080/",
          "height": 237
        },
        "id": "r7991-zcrbX-",
        "outputId": "4412753c-e8f9-4794-d0d7-867be659a9b7"
      },
      "execution_count": null,
      "outputs": [
        {
          "output_type": "display_data",
          "data": {
            "text/plain": [
              "<Figure size 1500x200 with 10 Axes>"
            ],
            "image/png": "[encoded data removed]"
          },
          "metadata": {}
        }
      ]
    },
    {
      "cell_type": "code",
      "source": [],
      "metadata": {
        "id": "EfQIuVLVyCrJ"
      },
      "execution_count": null,
      "outputs": []
    },
    {
      "cell_type": "code",
      "source": [],
      "metadata": {
        "id": "xkZBkcte0Bia"
      },
      "execution_count": null,
      "outputs": []
    }
  ]
}